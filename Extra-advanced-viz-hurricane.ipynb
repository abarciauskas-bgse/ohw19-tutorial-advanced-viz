{
 "cells": [
  {
   "cell_type": "code",
   "execution_count": null,
   "metadata": {},
   "outputs": [],
   "source": [
    "from datetime import datetime\n",
    "\n",
    "date_parser = lambda x: datetime.strptime(x, \"%Y%m%d\")"
   ]
  },
  {
   "cell_type": "code",
   "execution_count": null,
   "metadata": {},
   "outputs": [],
   "source": [
    "import pandas as pd\n",
    "\n",
    "\n",
    "df = pd.read_csv(\n",
    "    \"atlantic.csv\",\n",
    "    na_values=-999,\n",
    "    parse_dates=[\"Date\"],\n",
    "    date_parser=date_parser,\n",
    "    index_col=\"Date\",\n",
    ")"
   ]
  },
  {
   "cell_type": "code",
   "execution_count": null,
   "metadata": {},
   "outputs": [],
   "source": [
    "df.head()"
   ]
  },
  {
   "cell_type": "code",
   "execution_count": null,
   "metadata": {
    "scrolled": false
   },
   "outputs": [],
   "source": [
    "len(set(df[\"ID\"]))"
   ]
  },
  {
   "cell_type": "code",
   "execution_count": null,
   "metadata": {},
   "outputs": [],
   "source": [
    "set(df[\"Status\"])"
   ]
  },
  {
   "cell_type": "markdown",
   "metadata": {},
   "source": [
    "- TD – Tropical cyclone of tropical depression intensity (< 34 knots)\n",
    "- TS – Tropical cyclone of tropical storm intensity (34-63 knots)\n",
    "- HU – Tropical cyclone of hurricane intensity (> 64 knots)\n",
    "- EX – Extratropical cyclone (of any intensity)\n",
    "- SD – Subtropical cyclone of subtropical depression intensity (< 34 knots)\n",
    "- SS – Subtropical cyclone of subtropical storm intensity (> 34 knots)\n",
    "- LO – A low that is neither a tropical cyclone, a subtropical cyclone, nor an extratropical cyclone (of any intensity)\n",
    "- WV – Tropical Wave (of any intensity)\n",
    "- DB – Disturbance (of any"
   ]
  },
  {
   "cell_type": "code",
   "execution_count": null,
   "metadata": {},
   "outputs": [],
   "source": [
    "def fix_position(pos):\n",
    "    letter = pos[-1]\n",
    "    if letter in [\"W\", \"S\"]:\n",
    "        sign = -1\n",
    "    else:\n",
    "        sign = 1\n",
    "    return sign * float(pos[:-1])"
   ]
  },
  {
   "cell_type": "code",
   "execution_count": null,
   "metadata": {},
   "outputs": [],
   "source": [
    "df[\"lon\"] = df[\"Longitude\"].apply(fix_position)\n",
    "df[\"lat\"] = df[\"Latitude\"].apply(fix_position)"
   ]
  }
 ],
 "metadata": {
  "kernelspec": {
   "display_name": "Python 3",
   "language": "python",
   "name": "python3"
  },
  "language_info": {
   "codemirror_mode": {
    "name": "ipython",
    "version": 3
   },
   "file_extension": ".py",
   "mimetype": "text/x-python",
   "name": "python",
   "nbconvert_exporter": "python",
   "pygments_lexer": "ipython3",
   "version": "3.7.3"
  },
  "livereveal": {
   "auto_select": "none",
   "autolaunch": "false",
   "footer": " ",
   "header": "<script src='static/theme/reveal.js'></script>",
   "start_slideshow_at": "selected"
  }
 },
 "nbformat": 4,
 "nbformat_minor": 2
}
