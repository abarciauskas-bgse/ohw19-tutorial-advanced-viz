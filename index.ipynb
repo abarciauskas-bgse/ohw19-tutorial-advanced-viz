{
 "cells": [
  {
   "cell_type": "markdown",
   "metadata": {},
   "source": [
    "# Advanced Visualization tutorial\n",
    "\n",
    "- [HoloViz](01-advanced-viz-holoviz.ipynb)\n",
    "- [EarthSim](02-earthsim.ipynb)\n",
    "- [Slippy Maps](03-folium_ipyleaflet.ipynb)\n",
    "- [GeoSpatial Stack](04-geopandas-shapely-rasterio.ipynb)\n",
    "\n",
    "# Extras\n",
    "\n",
    "- [Explore Kaggle hurricane dataset](Extra-advanced-viz-hurricane.ipynb)\n",
    "- [Folium Plugins](Extra-folium-tour.ipynb)"
   ]
  }
 ],
 "metadata": {
  "kernelspec": {
   "display_name": "Python 3",
   "language": "python",
   "name": "python3"
  },
  "language_info": {
   "codemirror_mode": {
    "name": "ipython",
    "version": 3
   },
   "file_extension": ".py",
   "mimetype": "text/x-python",
   "name": "python",
   "nbconvert_exporter": "python",
   "pygments_lexer": "ipython3",
   "version": "3.7.3"
  }
 },
 "nbformat": 4,
 "nbformat_minor": 2
}
